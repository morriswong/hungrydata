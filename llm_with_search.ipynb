{
 "cells": [
  {
   "cell_type": "code",
   "execution_count": null,
   "metadata": {
    "vscode": {
     "languageId": "plaintext"
    }
   },
   "outputs": [],
   "source": [
    "%%capture\n",
    "%pip install -qU langchain-groq\n",
    "%pip install -qU langchain\n",
    "%pip install -qU langchain-community\n",
    "%pip install -qU duckduckgo-search"
   ]
  },
  {
   "cell_type": "code",
   "execution_count": null,
   "metadata": {
    "vscode": {
     "languageId": "plaintext"
    }
   },
   "outputs": [],
   "source": [
    "import os\n",
    "from langchain_groq import ChatGroq\n",
    "from google.colab import userdata\n",
    "\n",
    "os.environ[\"GROQ_API_KEY\"] = userdata.get('GROQ_API_KEY')\n",
    "\n",
    "llm = ChatGroq(\n",
    "    model=\"mixtral-8x7b-32768\",\n",
    "    temperature=0,\n",
    "    max_tokens=None,\n",
    "    timeout=None,\n",
    "    max_retries=2,\n",
    ")"
   ]
  },
  {
   "cell_type": "code",
   "execution_count": null,
   "metadata": {
    "vscode": {
     "languageId": "plaintext"
    }
   },
   "outputs": [],
   "source": [
    "from langchain.agents import initialize_agent\n",
    "from langchain_community.tools import Tool, DuckDuckGoSearchRun, DuckDuckGoSearchResults\n",
    "from langchain.agents import Tool\n",
    "\n",
    "ddg_search = DuckDuckGoSearchResults()\n",
    "\n",
    "tools = [\n",
    "   Tool(\n",
    "       name=\"DuckDuckGo Search\",\n",
    "       func=ddg_search.run,\n",
    "       description=\"Useful to browse information from the Internet.\",\n",
    "   )\n",
    "]\n",
    "\n",
    "agent = initialize_agent(\n",
    "   tools, llm, agent=\"zero-shot-react-description\", verbose=True\n",
    ")"
   ]
  },
  {
   "cell_type": "code",
   "execution_count": null,
   "metadata": {
    "vscode": {
     "languageId": "plaintext"
    }
   },
   "outputs": [],
   "source": [
    "from langchain.agents import initialize_agent\n",
    "\n",
    "agent = initialize_agent(\n",
    "   tools, llm, agent=\"zero-shot-react-description\", verbose=True\n",
    ")\n",
    "\n",
    "agent.run(\n",
    "   \"Weather in London in the coming 3 days\"\n",
    ")"
   ]
  }
 ],
 "metadata": {
  "language_info": {
   "name": "python"
  }
 },
 "nbformat": 4,
 "nbformat_minor": 2
}
